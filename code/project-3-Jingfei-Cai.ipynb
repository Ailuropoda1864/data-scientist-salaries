{
 "cells": [
  {
   "cell_type": "markdown",
   "metadata": {
    "focus": false,
    "id": "69b9a648-bcc7-490d-9f9b-ea244d156bd6"
   },
   "source": [
    "# Web Scraping for Indeed.com & Predicting Salaries"
   ]
  },
  {
   "cell_type": "markdown",
   "metadata": {
    "focus": false,
    "id": "34681254-c802-462f-829d-8894d0772d08"
   },
   "source": [
    "In this project, we will practice two major skills: collecting data by scraping a website and then building a binary classifier.\n",
    "\n",
    "We are going to collect salary information on data science jobs in a variety of markets. Then using the location, title, and summary of the job we will attempt to predict the salary of the job. For job posting sites, this would be extraordinarily useful. While most listings DO NOT come with salary information (as you will see in this exercise), being to able extrapolate or predict the expected salaries from other listings can help guide negotiations.\n",
    "\n",
    "Normally, we could use regression for this task; however, we will convert this problem into classification and use a random forest classifier, as well as another classifier of your choice; either logistic regression, SVM, or KNN. \n",
    "\n",
    "- **Question**: Why would we want this to be a classification problem?\n",
    "- **Answer**: While more precision may be better, there is a fair amount of natural variance in job salaries - predicting a range be may be useful.\n",
    "\n",
    "Therefore, the first part of the assignment will be focused on scraping Indeed.com. In the second, we'll focus on using listings with salary information to build a model and predict additional salaries."
   ]
  },
  {
   "cell_type": "markdown",
   "metadata": {
    "focus": false,
    "id": "a948d79c-5527-4c0d-ab23-f5d43ce72056"
   },
   "source": [
    "### Scraping job listings from Indeed.com"
   ]
  },
  {
   "cell_type": "markdown",
   "metadata": {
    "focus": true,
    "id": "7203e0c9-e437-4802-a6ad-7dc464f94436"
   },
   "source": [
    "We will be scraping job listings from Indeed.com using BeautifulSoup. Luckily, Indeed.com is a simple text page where we can easily find relevant entries.\n",
    "\n",
    "First, look at the source of an Indeed.com page: (http://www.indeed.com/jobs?q=data+scientist+%2420%2C000&l=New+York&start=10\")\n",
    "\n",
    "Notice, each job listing is underneath a `div` tag with a class name of `result`. We can use BeautifulSoup to extract those. "
   ]
  },
  {
   "cell_type": "markdown",
   "metadata": {},
   "source": [
    "#### Set up a request (using requests) to the URL below. Use BeautifulSoup to parse the page and extract all results (HINT: Look for div tags with class name result)\n",
    "The URL here has many query parameters\n",
    "- q for the job search\n",
    "- This is followed by \"+20,000\" to return results with salaries (or expected salaries >$20,000)\n",
    "- l for a location\n",
    "- start for what result number to start on"
   ]
  },
  {
   "cell_type": "code",
   "execution_count": 1,
   "metadata": {
    "collapsed": true
   },
   "outputs": [],
   "source": [
    "URL = \"http://www.indeed.com/jobs?q=data+scientist+%2420%2C000&l=New+York&start=10\""
   ]
  },
  {
   "cell_type": "code",
   "execution_count": 2,
   "metadata": {
    "collapsed": true
   },
   "outputs": [],
   "source": [
    "import requests\n",
    "from bs4 import BeautifulSoup\n",
    "\n",
    "import re\n",
    "import numpy as np\n",
    "import pandas as pd\n",
    "\n",
    "import matplotlib.pyplot as plt\n",
    "import seaborn as sns\n",
    "\n",
    "import statsmodels.formula.api as sm\n",
    "from sklearn.model_selection import train_test_split, cross_val_score, GridSearchCV\n",
    "from sklearn.feature_extraction.text import CountVectorizer, TfidfVectorizer, ENGLISH_STOP_WORDS\n",
    "from sklearn.linear_model import LogisticRegression, LogisticRegressionCV\n",
    "from sklearn.neighbors import KNeighborsClassifier\n",
    "from sklearn.ensemble import RandomForestClassifier\n",
    "from sklearn.metrics import accuracy_score\n",
    "from sklearn.svm import SVC\n",
    "\n",
    "from nltk.corpus import stopwords\n",
    "\n",
    "# import the EDA functions I've built in a Python script\n",
    "from eda import *\n",
    "\n",
    "%matplotlib inline"
   ]
  },
  {
   "cell_type": "code",
   "execution_count": 3,
   "metadata": {
    "collapsed": true
   },
   "outputs": [],
   "source": [
    "# increase the number of characters shown for each column\n",
    "pd.set_option('display.max_colwidth', 150)\n",
    "pd.set_option('display.max_rows', None)"
   ]
  },
  {
   "cell_type": "code",
   "execution_count": 4,
   "metadata": {
    "collapsed": true
   },
   "outputs": [],
   "source": [
    "html = requests.get(URL)\n",
    "\n",
    "# make sure the response status is ok\n",
    "assert html.status_code == requests.codes.ok\n",
    "soup = BeautifulSoup(html.text, 'lxml')"
   ]
  },
  {
   "cell_type": "markdown",
   "metadata": {},
   "source": [
    "## Write 4 functions to extract these items (one function for each): location, company, job title, and salary.\n",
    "Example\n",
    "```python\n",
    "def extract_location_from_result(result):\n",
    "    return result.find ...\n",
    "```\n",
    "\n",
    "##### - Make sure these functions are robust and can handle cases where the data/field may not be available.\n",
    ">- Remember to check if a field is empty or None for attempting to call methods on it\n",
    ">- Remember to use try/except if you anticipate errors.\n",
    "\n",
    "- **Test** the functions on the results above and simple examples"
   ]
  },
  {
   "cell_type": "code",
   "execution_count": 5,
   "metadata": {
    "collapsed": true
   },
   "outputs": [],
   "source": [
    "# first extract all the div's in the 'result' class\n",
    "def extract_results(soup):\n",
    "    return soup.find_all('div', class_='result')\n",
    "\n",
    "\n",
    "# the following functions extract the specified information from *one* result div\n",
    "# return the specified information, or, if error is encountered, return None \n",
    "def extract_location(result):\n",
    "    \"\"\"extract job location\"\"\"\n",
    "    try:\n",
    "        location = result.find('span', class_='location').get_text().strip()\n",
    "        return location\n",
    "    except:\n",
    "        return None\n",
    "\n",
    "\n",
    "def extract_company(result):\n",
    "    \"\"\"extract the name of the company\"\"\"\n",
    "    try:\n",
    "        company = result.find('span', class_='company').get_text().strip()\n",
    "        return company\n",
    "    except:\n",
    "        return None\n",
    "\n",
    "\n",
    "def extract_title(result):\n",
    "    \"\"\"extract the job title\"\"\"\n",
    "    try:\n",
    "        title = result.find('a', attrs={'data-tn-element': \"jobTitle\"}).get('title')\n",
    "        return title\n",
    "    except:\n",
    "        return None\n",
    "\n",
    "\n",
    "def extract_salary(result):\n",
    "    \"\"\"extract the salary\"\"\"\n",
    "    try:\n",
    "        salary = result.find('td', class_='snip').find('span', class_='no-wrap').get_text().strip()\n",
    "        return salary\n",
    "    except:\n",
    "        return None\n",
    "\n",
    "\n",
    "# the following functions extract additional information I want to collect\n",
    "def extract_description(result):\n",
    "    \"\"\"extract job description snippet\"\"\"\n",
    "    try:\n",
    "        description = result.find('span', class_='summary').get_text().strip()\n",
    "        return description\n",
    "    except:\n",
    "        return None\n",
    "\n",
    "\n",
    "def extract_review(result):\n",
    "    \"\"\"extract the number of reviews for the company\"\"\"\n",
    "    try:\n",
    "        review = result.find('a', attrs={'data-tn-element': \"reviewStars\"})\n",
    "        review = review.find('span', class_=\"slNoUnderline\")\n",
    "        review = review.get_text().strip()\n",
    "        # extract only the number\n",
    "        review = review.replace(',', '').replace(' reviews', '')\n",
    "        return review\n",
    "    except:\n",
    "        return None\n",
    "    \n",
    "    \n",
    "def extract_star(result):\n",
    "    \"\"\"extract a number (width) that is proportional to the number of stars shown for the company\"\"\"\n",
    "    try:\n",
    "        # the 'style' attribute dictates how many stars are filled with color\n",
    "        star = result.find('span', class_='rating').get('style')\n",
    "        # extract only the number\n",
    "        star = star.replace('width:', '').replace('px', '')\n",
    "        return star\n",
    "    except:\n",
    "        return None"
   ]
  },
  {
   "cell_type": "markdown",
   "metadata": {},
   "source": [
    "Now, to scale up our scraping, we need to accumulate more results. We can do this by examining the URL above.\n",
    "- \"http://www.indeed.com/jobs?q=data+scientist+%2420%2C000&l=New+York&start=10\"\n",
    "\n",
    "There are two query parameters here we can alter to collect more results, the l=New+York and the start=10. The first controls the location of the results (so we can try a different city). The second controls where in the results to start and gives 10 results (thus, we can keep incrementing by 10 to go further in the list).\n",
    "##### Complete the following code to collect results from multiple cities and starting points.\n",
    "- Enter your city below to add it to the search\n",
    "- Remember to convert your salary to U.S. Dollars to match the other cities if the currency is different"
   ]
  },
  {
   "cell_type": "code",
   "execution_count": 6,
   "metadata": {
    "collapsed": true
   },
   "outputs": [],
   "source": [
    "YOUR_CITIES = {'Boston', 'Washington DC', 'St Louis', 'San Diego',\n",
    "               'San Antonio', 'Columbus', 'Sacramento', 'Charlotte', 'Memphis',\n",
    "               'Detroit', 'Nashville', 'Jacksonville', 'Indianapolis',\n",
    "               'Fort Worth', 'Charlotte', 'El Paso', 'Oklahoma City',\n",
    "               'Las Vegas', 'Louisville', 'Milwaukee', 'Albuquerque', 'Tucson',\n",
    "               'Kansas City', 'Mesa', 'Colorado Springs', 'Raleigh', 'Omaha',\n",
    "               'Virginia Beach', 'Minneapolis', 'New Orleans', 'Tampa',\n",
    "               'San Jose', 'Baltimore', 'Fresno', 'Oakland', 'Tulsa', 'Madison',\n",
    "               'Arlington', 'Wichita', 'Cleveland', 'Aurora', 'Honolulu',\n",
    "               'Orlando', 'Anchorage', 'Des Moines', 'Salt Lake City',\n",
    "               'Lexington', 'Cincinnati', 'Newark', 'Durham', 'Buffalo',\n",
    "               'Baton Rouge', 'Richmond', 'Boise', 'Birmingham', 'Little Rock',\n",
    "               'Grand Rapids', 'Worcester', 'Providence', 'Sioux Falls',\n",
    "               'Jackson', 'Hartford', 'Bridgeport', 'Jersey City', 'Charleston',\n",
    "               'Billings', 'Fargo', 'Augusta'}\n",
    "\n",
    "url_template = \"http://www.indeed.com/jobs\"\n",
    "max_results_per_city = 10\n",
    "csv_name = 'indeed.csv'"
   ]
  },
  {
   "cell_type": "markdown",
   "metadata": {
    "collapsed": true
   },
   "source": [
    "```python\n",
    "# create a csv file with only the header\n",
    "scraped_data = {'location': [],\n",
    "                'company': [],\n",
    "                'title': [],\n",
    "                'salary': [],\n",
    "                'description': [],\n",
    "                'review': [],\n",
    "                'star': []}\n",
    "\n",
    "df = pd.DataFrame(scraped_data)\n",
    "df.to_csv(csv_name, index=False)\n",
    "```"
   ]
  },
  {
   "cell_type": "code",
   "execution_count": 7,
   "metadata": {
    "collapsed": true
   },
   "outputs": [],
   "source": [
    "def scrape_page_to_csv(url, url_params, csv):\n",
    "    \"\"\"\n",
    "    extract information from a results page and save to an existing csv\n",
    "    :param url: url template\n",
    "    :param url_params: a dictionary to feed to params argument in requests.get    \n",
    "    :return: a pandas dataframe containing the extracted information\n",
    "    \"\"\"\n",
    "    # create a empty dictionary to store extracted information\n",
    "    scraped_data = {'location': [],\n",
    "                    'company': [],\n",
    "                    'title': [],\n",
    "                    'salary': [],\n",
    "                    'description': [],\n",
    "                    'review': [],\n",
    "                    'star': []}\n",
    "    \n",
    "    html = requests.get(url, params=url_params)\n",
    "\n",
    "    # make sure the response status is ok\n",
    "    assert html.status_code == requests.codes.ok\n",
    "\n",
    "    soup = BeautifulSoup(html.text, 'lxml')\n",
    "    results = extract_results(soup)\n",
    "\n",
    "    # append extracted info to the correspond list\n",
    "    for result in results:\n",
    "        scraped_data['location'].append(extract_location(result))\n",
    "        scraped_data['company'].append(extract_company(result))\n",
    "        scraped_data['title'].append(extract_title(result))\n",
    "        scraped_data['salary'].append(extract_salary(result))\n",
    "        scraped_data['description'].append(extract_description(result))\n",
    "        scraped_data['review'].append(extract_review(result))\n",
    "        scraped_data['star'].append(extract_star(result))\n",
    "    \n",
    "    # convert the dictionary to a pandas dataframe\n",
    "    df = pd.DataFrame(scraped_data)\n",
    "    \n",
    "    # append the dataframe (without the header) to the existing 'indeed.csv'\n",
    "    with open(csv, 'a') as f:\n",
    "        df.to_csv(f, header=False, index=False)\n",
    "\n",
    "    return df"
   ]
  },
  {
   "cell_type": "code",
   "execution_count": 8,
   "metadata": {
    "collapsed": true,
    "scrolled": true
   },
   "outputs": [],
   "source": [
    "for city in set(['New+York', 'Chicago', 'San+Francisco', 'Austin', 'Seattle',\n",
    "                 'Los+Angeles', 'Philadelphia', 'Atlanta', 'Dallas', 'Pittsburgh',\n",
    "                 'Portland', 'Phoenix', 'Denver', 'Houston', 'Miami', *YOUR_CITIES]):\n",
    " \n",
    "    for start in range(0, max_results_per_city, 10):\n",
    "        url_params = {'q': 'data scientist', 'l': city, 'start': start, 'radius': '100'}\n",
    "        scrape_page_to_csv(url_template, url_params, csv_name)"
   ]
  },
  {
   "cell_type": "markdown",
   "metadata": {},
   "source": [
    "##### In practice, I have put all the steps above in a [python script](./webscraper.py) (with minor modifications), which saves the scraped data to a csv file. I also set up a cron job to run the script daily."
   ]
  },
  {
   "cell_type": "markdown",
   "metadata": {
    "focus": false,
    "id": "20339c09-5032-4e27-91be-286e9b46cd13"
   },
   "source": [
    "#### Use the functions you wrote above to parse out the 4 fields - location, title, company and salary. Create a dataframe from the results with those 4 columns."
   ]
  },
  {
   "cell_type": "code",
   "execution_count": 9,
   "metadata": {
    "scrolled": true
   },
   "outputs": [
    {
     "data": {
      "text/html": [
       "<div>\n",
       "<style>\n",
       "    .dataframe thead tr:only-child th {\n",
       "        text-align: right;\n",
       "    }\n",
       "\n",
       "    .dataframe thead th {\n",
       "        text-align: left;\n",
       "    }\n",
       "\n",
       "    .dataframe tbody tr th {\n",
       "        vertical-align: top;\n",
       "    }\n",
       "</style>\n",
       "<table border=\"1\" class=\"dataframe\">\n",
       "  <thead>\n",
       "    <tr style=\"text-align: right;\">\n",
       "      <th></th>\n",
       "      <th>company</th>\n",
       "      <th>description</th>\n",
       "      <th>location</th>\n",
       "      <th>review</th>\n",
       "      <th>salary</th>\n",
       "      <th>star</th>\n",
       "      <th>title</th>\n",
       "    </tr>\n",
       "  </thead>\n",
       "  <tbody>\n",
       "    <tr>\n",
       "      <th>0</th>\n",
       "      <td>Quintrix Solutions, Inc</td>\n",
       "      <td>ESSENTIAL DUTIES AND RESPONSIBILITIES OF THE DATA SCIENTIST:. The starting salary for the Data Scientist position is $135,000....</td>\n",
       "      <td>New York, NY</td>\n",
       "      <td>NaN</td>\n",
       "      <td>$135,000 a year</td>\n",
       "      <td>NaN</td>\n",
       "      <td>Data Scientist (Statistical Modeling, Big Data, ETL)</td>\n",
       "    </tr>\n",
       "    <tr>\n",
       "      <th>1</th>\n",
       "      <td>YouNow</td>\n",
       "      <td>Someone looking to get into a full time data analysis / data science position. The Data Analyst Intern will work with the Data &amp; Product teams, an...</td>\n",
       "      <td>New York, NY</td>\n",
       "      <td>NaN</td>\n",
       "      <td>NaN</td>\n",
       "      <td>NaN</td>\n",
       "      <td>Intern - Data Analysis</td>\n",
       "    </tr>\n",
       "    <tr>\n",
       "      <th>2</th>\n",
       "      <td>Quintrix Solutions, Inc</td>\n",
       "      <td>ESSENTIAL DUTIES AND RESPONSIBILITIES OF THE DATA SCIENTIST:. The starting salary for the Data Scientist position is $135,000....</td>\n",
       "      <td>New York, NY</td>\n",
       "      <td>NaN</td>\n",
       "      <td>NaN</td>\n",
       "      <td>NaN</td>\n",
       "      <td>Data Scientist (Statistical Modeling, Big Data, ETL)</td>\n",
       "    </tr>\n",
       "    <tr>\n",
       "      <th>3</th>\n",
       "      <td>Tumblr</td>\n",
       "      <td>Data Scientist, Personalization and Recommendation. We are seeking a veteran Data Scientist, well-versed in data analysis and algorithm implementa...</td>\n",
       "      <td>New York, NY</td>\n",
       "      <td>9.0</td>\n",
       "      <td>NaN</td>\n",
       "      <td>52.8</td>\n",
       "      <td>Data Scientist, Personalization and Recommendation</td>\n",
       "    </tr>\n",
       "    <tr>\n",
       "      <th>4</th>\n",
       "      <td>DEPT OF HEALTH/MENTAL HYGIENE</td>\n",
       "      <td>Maintain confidentiality of identifiable data. Supervise at least one City Research Scientist analyzing data, preparing manuscripts and presentati...</td>\n",
       "      <td>Queens, NY</td>\n",
       "      <td>7.0</td>\n",
       "      <td>$85,211 - $110,522 a year</td>\n",
       "      <td>52.8</td>\n",
       "      <td>Research Scientist of Special Projects, World Trade Center Health Registry</td>\n",
       "    </tr>\n",
       "  </tbody>\n",
       "</table>\n",
       "</div>"
      ],
      "text/plain": [
       "                         company  \\\n",
       "0        Quintrix Solutions, Inc   \n",
       "1                         YouNow   \n",
       "2        Quintrix Solutions, Inc   \n",
       "3                         Tumblr   \n",
       "4  DEPT OF HEALTH/MENTAL HYGIENE   \n",
       "\n",
       "                                                                                                                                             description  \\\n",
       "0                      ESSENTIAL DUTIES AND RESPONSIBILITIES OF THE DATA SCIENTIST:. The starting salary for the Data Scientist position is $135,000....   \n",
       "1  Someone looking to get into a full time data analysis / data science position. The Data Analyst Intern will work with the Data & Product teams, an...   \n",
       "2                      ESSENTIAL DUTIES AND RESPONSIBILITIES OF THE DATA SCIENTIST:. The starting salary for the Data Scientist position is $135,000....   \n",
       "3  Data Scientist, Personalization and Recommendation. We are seeking a veteran Data Scientist, well-versed in data analysis and algorithm implementa...   \n",
       "4  Maintain confidentiality of identifiable data. Supervise at least one City Research Scientist analyzing data, preparing manuscripts and presentati...   \n",
       "\n",
       "       location  review                     salary  star  \\\n",
       "0  New York, NY     NaN            $135,000 a year   NaN   \n",
       "1  New York, NY     NaN                        NaN   NaN   \n",
       "2  New York, NY     NaN                        NaN   NaN   \n",
       "3  New York, NY     9.0                        NaN  52.8   \n",
       "4    Queens, NY     7.0  $85,211 - $110,522 a year  52.8   \n",
       "\n",
       "                                                                        title  \n",
       "0                        Data Scientist (Statistical Modeling, Big Data, ETL)  \n",
       "1                                                      Intern - Data Analysis  \n",
       "2                        Data Scientist (Statistical Modeling, Big Data, ETL)  \n",
       "3                          Data Scientist, Personalization and Recommendation  \n",
       "4  Research Scientist of Special Projects, World Trade Center Health Registry  "
      ]
     },
     "execution_count": 9,
     "metadata": {},
     "output_type": "execute_result"
    }
   ],
   "source": [
    "df = pd.read_csv(csv_name, dtype={'salary': object})\n",
    "df.head()"
   ]
  },
  {
   "cell_type": "code",
   "execution_count": 10,
   "metadata": {},
   "outputs": [
    {
     "data": {
      "text/plain": [
       "(95619, 7)"
      ]
     },
     "execution_count": 10,
     "metadata": {},
     "output_type": "execute_result"
    }
   ],
   "source": [
    "df.shape"
   ]
  },
  {
   "cell_type": "markdown",
   "metadata": {
    "focus": false,
    "id": "ff98ce64-78a7-441f-a675-63464e32c834"
   },
   "source": [
    "Lastly, we need to clean up salary data. \n",
    "\n",
    "1. Only a small number of the scraped results have salary information - only these will be used for modeling.\n",
    "1. Some of the salaries are not yearly but hourly or weekly, these will not be useful to us for now\n",
    "1. Some of the entries may be duplicated\n",
    "1. The salaries are given as text and usually with ranges.\n",
    "\n",
    "#### Find the entries with annual salary entries, by filtering the entries without salaries or salaries that are not yearly (filter those that refer to hour or week). Also, remove duplicate entries"
   ]
  },
  {
   "cell_type": "code",
   "execution_count": 11,
   "metadata": {},
   "outputs": [
    {
     "data": {
      "text/plain": [
       "(52522, 7)"
      ]
     },
     "execution_count": 11,
     "metadata": {},
     "output_type": "execute_result"
    }
   ],
   "source": [
    "# remove duplicate entries\n",
    "df.drop_duplicates(subset=['company', 'location', 'salary', 'title'], \n",
    "                   keep='last', inplace=True)\n",
    "df.shape"
   ]
  },
  {
   "cell_type": "code",
   "execution_count": 12,
   "metadata": {
    "scrolled": true
   },
   "outputs": [
    {
     "data": {
      "text/plain": [
       "4840"
      ]
     },
     "execution_count": 12,
     "metadata": {},
     "output_type": "execute_result"
    }
   ],
   "source": [
    "# how many listings have salary information\n",
    "df.salary.notnull().sum()"
   ]
  },
  {
   "cell_type": "code",
   "execution_count": 13,
   "metadata": {},
   "outputs": [
    {
     "data": {
      "text/plain": [
       "array(['$135,000 a year', '$85,211 - $110,522 a year',\n",
       "       '$90,000 - $95,000 a year', ..., '$53,676 - $72,463 a year',\n",
       "       '$101,409 - $155,073 a year', '$22.47 - $34.00 an hour'], dtype=object)"
      ]
     },
     "execution_count": 13,
     "metadata": {},
     "output_type": "execute_result"
    }
   ],
   "source": [
    "# remove results that don't have salary information\n",
    "df = df[df.salary.notnull()]\n",
    "\n",
    "# check salary for patterns\n",
    "df.salary.unique()"
   ]
  },
  {
   "cell_type": "code",
   "execution_count": 14,
   "metadata": {},
   "outputs": [
    {
     "data": {
      "text/plain": [
       "(3251, 7)"
      ]
     },
     "execution_count": 14,
     "metadata": {},
     "output_type": "execute_result"
    }
   ],
   "source": [
    "# remove salaries that are not yearly\n",
    "df = df[df.salary.str.contains('year')]\n",
    "df.shape"
   ]
  },
  {
   "cell_type": "markdown",
   "metadata": {
    "focus": false,
    "id": "7d4bc860-b214-4f75-9cd0-b234830b1ec2"
   },
   "source": [
    "#### Write a function that takes a salary string and converts it to a number, averaging a salary range if necessary"
   ]
  },
  {
   "cell_type": "code",
   "execution_count": 15,
   "metadata": {
    "scrolled": true
   },
   "outputs": [
    {
     "data": {
      "text/html": [
       "<div>\n",
       "<style>\n",
       "    .dataframe thead tr:only-child th {\n",
       "        text-align: right;\n",
       "    }\n",
       "\n",
       "    .dataframe thead th {\n",
       "        text-align: left;\n",
       "    }\n",
       "\n",
       "    .dataframe tbody tr th {\n",
       "        vertical-align: top;\n",
       "    }\n",
       "</style>\n",
       "<table border=\"1\" class=\"dataframe\">\n",
       "  <thead>\n",
       "    <tr style=\"text-align: right;\">\n",
       "      <th></th>\n",
       "      <th>company</th>\n",
       "      <th>description</th>\n",
       "      <th>location</th>\n",
       "      <th>review</th>\n",
       "      <th>salary</th>\n",
       "      <th>star</th>\n",
       "      <th>title</th>\n",
       "    </tr>\n",
       "  </thead>\n",
       "  <tbody>\n",
       "    <tr>\n",
       "      <th>0</th>\n",
       "      <td>Quintrix Solutions, Inc</td>\n",
       "      <td>ESSENTIAL DUTIES AND RESPONSIBILITIES OF THE DATA SCIENTIST:. The starting salary for the Data Scientist position is $135,000....</td>\n",
       "      <td>New York, NY</td>\n",
       "      <td>NaN</td>\n",
       "      <td>135000.0</td>\n",
       "      <td>NaN</td>\n",
       "      <td>Data Scientist (Statistical Modeling, Big Data, ETL)</td>\n",
       "    </tr>\n",
       "    <tr>\n",
       "      <th>4</th>\n",
       "      <td>DEPT OF HEALTH/MENTAL HYGIENE</td>\n",
       "      <td>Maintain confidentiality of identifiable data. Supervise at least one City Research Scientist analyzing data, preparing manuscripts and presentati...</td>\n",
       "      <td>Queens, NY</td>\n",
       "      <td>7.0</td>\n",
       "      <td>97866.5</td>\n",
       "      <td>52.8</td>\n",
       "      <td>Research Scientist of Special Projects, World Trade Center Health Registry</td>\n",
       "    </tr>\n",
       "    <tr>\n",
       "      <th>9</th>\n",
       "      <td>Blair Search</td>\n",
       "      <td>Strong understanding of algorithms and advanced data structures. Experience in solutions that leverage distributed processing of large data sets (...</td>\n",
       "      <td>Duluth, GA</td>\n",
       "      <td>NaN</td>\n",
       "      <td>92500.0</td>\n",
       "      <td>NaN</td>\n",
       "      <td>Data Scientist</td>\n",
       "    </tr>\n",
       "    <tr>\n",
       "      <th>115</th>\n",
       "      <td>Intellipro Group Inc.</td>\n",
       "      <td>Work with data engineers and other stakeholders in data products pipeline to enable automation of the data-driven products....</td>\n",
       "      <td>San Francisco, CA</td>\n",
       "      <td>NaN</td>\n",
       "      <td>300000.0</td>\n",
       "      <td>NaN</td>\n",
       "      <td>Data Scientist</td>\n",
       "    </tr>\n",
       "    <tr>\n",
       "      <th>296</th>\n",
       "      <td>Blair Search</td>\n",
       "      <td>The individual, in partnership with the Project Scientists, is responsible to guide, review, and comment on the study design, compound requirement...</td>\n",
       "      <td>Irvine, CA</td>\n",
       "      <td>NaN</td>\n",
       "      <td>115000.0</td>\n",
       "      <td>NaN</td>\n",
       "      <td>Non-clinical Study Monitor</td>\n",
       "    </tr>\n",
       "  </tbody>\n",
       "</table>\n",
       "</div>"
      ],
      "text/plain": [
       "                           company  \\\n",
       "0          Quintrix Solutions, Inc   \n",
       "4    DEPT OF HEALTH/MENTAL HYGIENE   \n",
       "9                     Blair Search   \n",
       "115          Intellipro Group Inc.   \n",
       "296                   Blair Search   \n",
       "\n",
       "                                                                                                                                               description  \\\n",
       "0                        ESSENTIAL DUTIES AND RESPONSIBILITIES OF THE DATA SCIENTIST:. The starting salary for the Data Scientist position is $135,000....   \n",
       "4    Maintain confidentiality of identifiable data. Supervise at least one City Research Scientist analyzing data, preparing manuscripts and presentati...   \n",
       "9    Strong understanding of algorithms and advanced data structures. Experience in solutions that leverage distributed processing of large data sets (...   \n",
       "115                         Work with data engineers and other stakeholders in data products pipeline to enable automation of the data-driven products....   \n",
       "296  The individual, in partnership with the Project Scientists, is responsible to guide, review, and comment on the study design, compound requirement...   \n",
       "\n",
       "              location  review    salary  star  \\\n",
       "0         New York, NY     NaN  135000.0   NaN   \n",
       "4           Queens, NY     7.0   97866.5  52.8   \n",
       "9           Duluth, GA     NaN   92500.0   NaN   \n",
       "115  San Francisco, CA     NaN  300000.0   NaN   \n",
       "296         Irvine, CA     NaN  115000.0   NaN   \n",
       "\n",
       "                                                                          title  \n",
       "0                          Data Scientist (Statistical Modeling, Big Data, ETL)  \n",
       "4    Research Scientist of Special Projects, World Trade Center Health Registry  \n",
       "9                                                                Data Scientist  \n",
       "115                                                              Data Scientist  \n",
       "296                                                  Non-clinical Study Monitor  "
      ]
     },
     "execution_count": 15,
     "metadata": {},
     "output_type": "execute_result"
    }
   ],
   "source": [
    "def parse_salary(salary):\n",
    "    salary = salary.replace(',', '')    \n",
    "    salary = re.findall('[\\d]+', salary)\n",
    "    return np.mean([float(num) for num in salary])\n",
    "\n",
    "\n",
    "df.salary = df.salary.apply(parse_salary)\n",
    "df.head()"
   ]
  },
  {
   "cell_type": "markdown",
   "metadata": {
    "focus": false,
    "id": "43e71edd-210e-42b1-9336-70a931f048af"
   },
   "source": [
    "### Save your results as a CSV"
   ]
  },
  {
   "cell_type": "code",
   "execution_count": 16,
   "metadata": {
    "collapsed": true,
    "focus": false,
    "id": "783fd153-28ac-47ab-bfca-27e7c1de95b4"
   },
   "outputs": [],
   "source": [
    "# Export to csv\n",
    "df.to_csv('indeed_cleaned.csv', index=False)"
   ]
  },
  {
   "cell_type": "markdown",
   "metadata": {
    "focus": false,
    "id": "04563b69-f7b6-466f-9d65-fc62c9ddee6a"
   },
   "source": [
    "## Predicting salaries using Random Forests + Another Classifier"
   ]
  },
  {
   "cell_type": "markdown",
   "metadata": {
    "focus": false,
    "id": "243e949e-2742-40af-872e-fec475fd306c"
   },
   "source": [
    "#### Load in the the data of scraped salaries"
   ]
  },
  {
   "cell_type": "code",
   "execution_count": 17,
   "metadata": {
    "focus": false,
    "id": "588f9845-6143-4bcc-bfd1-85d45b79303d"
   },
   "outputs": [
    {
     "data": {
      "text/plain": [
       "(3251, 7)"
      ]
     },
     "execution_count": 17,
     "metadata": {},
     "output_type": "execute_result"
    }
   ],
   "source": [
    "df = pd.read_csv('indeed_cleaned.csv')\n",
    "df.shape"
   ]
  },
  {
   "cell_type": "markdown",
   "metadata": {
    "focus": false,
    "id": "c7631f51-07f2-4c79-a093-3e9bc7849a48"
   },
   "source": [
    "#### We want to predict a binary variable - whether the salary was low or high. Compute the median salary and create a new binary variable that is true when the salary is high (above the median)\n",
    "\n",
    "We could also perform Linear Regression (or any regression) to predict the salary value here. Instead, we are going to convert this into a _binary_ classification problem, by predicting two classes, HIGH vs LOW salary.\n",
    "\n",
    "While performing regression may be better, performing classification may help remove some of the noise of the extreme salaries. We don't _have_ to choose the `median` as the splitting point - we could also split on the 75th percentile or any other reasonable breaking point.\n",
    "\n",
    "In fact, the ideal scenario may be to predict many levels of salaries, "
   ]
  },
  {
   "cell_type": "markdown",
   "metadata": {
    "focus": false,
    "id": "a7afb2c0-d41e-4779-8216-91cd8dd4473f"
   },
   "source": [
    "#### Thought experiment: What is the baseline accuracy for this model?"
   ]
  },
  {
   "cell_type": "markdown",
   "metadata": {
    "collapsed": true,
    "focus": false,
    "id": "87a17d3d-b7f4-4747-9f75-f9af1d18a174"
   },
   "source": [
    "You can get a 0.5 accuracy just by chance."
   ]
  },
  {
   "cell_type": "markdown",
   "metadata": {
    "focus": false,
    "id": "4fb29de2-5b98-474c-a4ad-5170b72b9aea"
   },
   "source": [
    "#### Create a Random Forest model to predict High/Low salary using Sklearn. Start by ONLY using the location as a feature. "
   ]
  },
  {
   "cell_type": "code",
   "execution_count": 18,
   "metadata": {
    "focus": false,
    "id": "ddbc6159-6854-4ca7-857f-bfecdaf6d9c2",
    "scrolled": true
   },
   "outputs": [
    {
     "data": {
      "text/plain": [
       "array(['New York, NY', 'Queens, NY', 'Duluth, GA', ...,\n",
       "       'Baltimore, MD 21231 (Fells Point area)', 'Sioux Falls, SD',\n",
       "       'Lemoore Naval Air Station, CA'], dtype=object)"
      ]
     },
     "execution_count": 18,
     "metadata": {},
     "output_type": "execute_result"
    }
   ],
   "source": [
    "# check location for pattern\n",
    "df.location.unique()"
   ]
  },
  {
   "cell_type": "code",
   "execution_count": 19,
   "metadata": {},
   "outputs": [
    {
     "data": {
      "text/plain": [
       "(3250, 11)"
      ]
     },
     "execution_count": 19,
     "metadata": {},
     "output_type": "execute_result"
    }
   ],
   "source": [
    "patterns = {'city': r'([A-Za-z ]+, [A-Z]{2})',\n",
    "            'ZIP': r'(\\d{5})',\n",
    "            'neighborhood': r'\\(([A-Za-z ]+)\\)$'}\n",
    "\n",
    "\n",
    "def parse_location(location, pattern):\n",
    "    loc = re.search(pattern, location)\n",
    "    if loc:\n",
    "        return loc.group(1)\n",
    "    else:\n",
    "        return None\n",
    "    \n",
    "    \n",
    "# create separate columns for city, ZIP, and neighborhood    \n",
    "for key, pattern in patterns.items():\n",
    "    df[key] = df.location.apply(parse_location, pattern=pattern)\n",
    "    \n",
    "\n",
    "# create a separate column for state\n",
    "def extract_state(city):\n",
    "    try:\n",
    "        return city[-2:]\n",
    "    except:\n",
    "        return None\n",
    "    \n",
    "    \n",
    "df['state'] = df.city.apply(extract_state)\n",
    "\n",
    "df = df.dropna(subset=['city', 'state'], how='any').reset_index(drop=True)\n",
    "df.shape"
   ]
  },
  {
   "cell_type": "code",
   "execution_count": 20,
   "metadata": {
    "focus": false,
    "id": "c20d2498-151c-44c3-a453-3a333c79a0ac"
   },
   "outputs": [
    {
     "data": {
      "text/plain": [
       "74632.25"
      ]
     },
     "execution_count": 20,
     "metadata": {},
     "output_type": "execute_result"
    }
   ],
   "source": [
    "salary_median = np.median(df.salary)\n",
    "salary_median"
   ]
  },
  {
   "cell_type": "code",
   "execution_count": 21,
   "metadata": {},
   "outputs": [
    {
     "data": {
      "text/plain": [
       "<matplotlib.legend.Legend at 0x7f1f589ac4a8>"
      ]
     },
     "execution_count": 21,
     "metadata": {},
     "output_type": "execute_result"
    },
    {
     "data": {
      "image/png": "[encoded data removed]",
      "text/plain": [
       "<matplotlib.figure.Figure at 0x7f1f57925d30>"
      ]
     },
     "metadata": {},
     "output_type": "display_data"
    }
   ],
   "source": [
    "# plot histogram of salary distribution\n",
    "df.salary.plot(kind='hist', bins=range(10000, 300001, 10000), \n",
    "               title='Distribution of Salary',\n",
    "               fontsize=11, color='purple')\n",
    "plt.xlabel('Annual Salary ($)')\n",
    "plt.xlim(0,300000)\n",
    "plt.xticks(range(0, 300001, 50000), ['0k', '50k', '100k', '150k', '200k', '250k', '300k'])\n",
    "# add median and mean lines\n",
    "plt.axvline(np.median(df.salary), linestyle='dashed', c='yellow', label='median')\n",
    "plt.axvline(np.mean(df.salary), linestyle='dotted', c='orange', label='mean')\n",
    "plt.legend(loc='best')"
   ]
  },
  {
   "cell_type": "code",
   "execution_count": 22,
   "metadata": {
    "scrolled": true
   },
   "outputs": [
    {
     "name": "stdout",
     "output_type": "stream",
     "text": [
      "Head of the dataframe:\n",
      "\n",
      "                         company  \\\n",
      "0        Quintrix Solutions, Inc   \n",
      "1  DEPT OF HEALTH/MENTAL HYGIENE   \n",
      "2                   Blair Search   \n",
      "3          Intellipro Group Inc.   \n",
      "4                   Blair Search   \n",
      "\n",
      "                                                                                                                                             description  \\\n",
      "0                      ESSENTIAL DUTIES AND RESPONSIBILITIES OF THE DATA SCIENTIST:. The starting salary for the Data Scientist position is $135,000....   \n",
      "1  Maintain confidentiality of identifiable data. Supervise at least one City Research Scientist analyzing data, preparing manuscripts and presentati...   \n",
      "2  Strong understanding of algorithms and advanced data structures. Experience in solutions that leverage distributed processing of large data sets (...   \n",
      "3                         Work with data engineers and other stakeholders in data products pipeline to enable automation of the data-driven products....   \n",
      "4  The individual, in partnership with the Project Scientists, is responsible to guide, review, and comment on the study design, compound requirement...   \n",
      "\n",
      "            location  review    salary  star  \\\n",
      "0       New York, NY     NaN  135000.0   NaN   \n",
      "1         Queens, NY     7.0   97866.5  52.8   \n",
      "2         Duluth, GA     NaN   92500.0   NaN   \n",
      "3  San Francisco, CA     NaN  300000.0   NaN   \n",
      "4         Irvine, CA     NaN  115000.0   NaN   \n",
      "\n",
      "                                                                        title  \\\n",
      "0                        Data Scientist (Statistical Modeling, Big Data, ETL)   \n",
      "1  Research Scientist of Special Projects, World Trade Center Health Registry   \n",
      "2                                                              Data Scientist   \n",
      "3                                                              Data Scientist   \n",
      "4                                                  Non-clinical Study Monitor   \n",
      "\n",
      "                city   ZIP neighborhood state  high_salary  \n",
      "0       New York, NY  None         None    NY         True  \n",
      "1         Queens, NY  None         None    NY         True  \n",
      "2         Duluth, GA  None         None    GA         True  \n",
      "3  San Francisco, CA  None         None    CA         True  \n",
      "4         Irvine, CA  None         None    CA         True  \n",
      "\n",
      "\n",
      "<class 'pandas.core.frame.DataFrame'>\n",
      "RangeIndex: 3250 entries, 0 to 3249\n",
      "Data columns (total 12 columns):\n",
      "company         3248 non-null object\n",
      "description     3250 non-null object\n",
      "location        3250 non-null object\n",
      "review          1838 non-null float64\n",
      "salary          3250 non-null float64\n",
      "star            1838 non-null float64\n",
      "title           3250 non-null object\n",
      "city            3250 non-null object\n",
      "ZIP             665 non-null object\n",
      "neighborhood    249 non-null object\n",
      "state           3250 non-null object\n",
      "high_salary     3250 non-null bool\n",
      "dtypes: bool(1), float64(3), object(8)\n",
      "memory usage: 282.5+ KB\n",
      "\n",
      "\n",
      "             review         salary         star\n",
      "count   1838.000000    3250.000000  1838.000000\n",
      "mean    2263.469532   80590.957385    48.139064\n",
      "std     7944.542155   35791.156351     6.522346\n",
      "min        2.000000   12500.000000    18.000000\n",
      "25%       15.000000   54363.125000    43.200000\n",
      "50%       99.000000   74632.250000    51.600000\n",
      "75%      349.000000   99229.125000    52.800000\n",
      "max    43251.000000  300000.000000    60.000000\n",
      "\n",
      "\n",
      "                       company  \\\n",
      "count                     3248   \n",
      "unique                    1589   \n",
      "top     Department of the Army   \n",
      "freq                        57   \n",
      "\n",
      "                                                                                                                                           description  \\\n",
      "count                                                                                                                                             3250   \n",
      "unique                                                                                                                                            3086   \n",
      "top     From pipefitters to accountants, scientists to engineers, doctors to nurses-the careers and opportunities to make a difference are endless....   \n",
      "freq                                                                                                                                                14   \n",
      "\n",
      "            location           title          city    ZIP   neighborhood  \\\n",
      "count           3250            3250          3250    665            249   \n",
      "unique          1037            2601           705    439            108   \n",
      "top     New York, NY  Data Scientist  New York, NY  43212  Downtown area   \n",
      "freq             104              58           125     13             35   \n",
      "\n",
      "       state high_salary  \n",
      "count   3250        3250  \n",
      "unique    48           2  \n",
      "top       FL        True  \n",
      "freq     309        1625  \n",
      "\n",
      "\n",
      "Number of duplicated rows: 0\n"
     ]
    }
   ],
   "source": [
    "df['high_salary'] = df.salary > salary_median\n",
    "eda(df)"
   ]
  },
  {
   "cell_type": "code",
   "execution_count": 23,
   "metadata": {},
   "outputs": [
    {
     "name": "stdout",
     "output_type": "stream",
     "text": [
      "0.623384615385\n"
     ]
    }
   ],
   "source": [
    "# use state as the location\n",
    "X = pd.get_dummies(df.state).drop('FL', axis=1) # use FL as the baseline since it has the most observations\n",
    "y = df.high_salary\n",
    "\n",
    "clf = RandomForestClassifier(n_estimators=1000, oob_score=True, n_jobs=-1, random_state=42)\n",
    "clf.fit(X, y)\n",
    "\n",
    "# score of the training dataset obtained using an out-of-bag estimate\n",
    "print(clf.oob_score_)"
   ]
  },
  {
   "cell_type": "markdown",
   "metadata": {
    "focus": false,
    "id": "0ef04f32-419c-4bf2-baf7-48201f03df89"
   },
   "source": [
    "#### Create a few new variables in your dataframe to represent interesting features of a job title.\n",
    "- For example, create a feature that represents whether 'Senior' is in the title or whether 'Manager' is in the title. \n",
    "- Then build a new Random Forest with these features. Do they add any value?\n",
    "- After creating these variables, use count-vectorizer to create features based on the words in the job titles.\n",
    "- Build a new random forest model with location and these new features included."
   ]
  },
  {
   "cell_type": "code",
   "execution_count": 24,
   "metadata": {
    "collapsed": true
   },
   "outputs": [],
   "source": [
    "# streamline the process with a function\n",
    "def random_forest_with_new_features(X, y, new_features, **kwargs):\n",
    "    # build a Random Forest with X, y\n",
    "    clf_before = RandomForestClassifier(n_estimators=1000, \n",
    "                                        oob_score=True, \n",
    "                                        n_jobs=-1, \n",
    "                                        random_state=42,\n",
    "                                        **kwargs)\n",
    "    clf_before.fit(X, y)\n",
    "    \n",
    "    # add new features (represented by a boolean whether a word is in the title)\n",
    "    for feat in new_features:\n",
    "        df_feat = df.title.str.lower().str.contains(feat)\n",
    "        X = pd.concat((X, df_feat), axis=1)\n",
    "        \n",
    "    # build a new Random Forest with the new X and y\n",
    "    clf_after = RandomForestClassifier(n_estimators=1000,\n",
    "                                       oob_score=True,\n",
    "                                       n_jobs=-1,\n",
    "                                       random_state=42,\n",
    "                                       **kwargs)\n",
    "    clf_after.fit(X, y)\n",
    "    \n",
    "    # compare the scores before and after adding the new features\n",
    "    score_change = clf_after.oob_score_ - clf_before.oob_score_\n",
    "    print_out = 'The new features {} added value.\\nChange in oob_score: {:.4f}'.format(new_features, score_change)\n",
    "    if score_change <= 0:\n",
    "        print_out = print_out.replace('added', 'did not add')\n",
    "    print(print_out)\n",
    "    return clf_before.oob_score_, clf_after.oob_score_"
   ]
  },
  {
   "cell_type": "code",
   "execution_count": 25,
   "metadata": {
    "scrolled": true
   },
   "outputs": [
    {
     "name": "stdout",
     "output_type": "stream",
     "text": [
      "The new features ['manager', 'senior'] added value.\n",
      "Change in oob_score: 0.0265\n"
     ]
    },
    {
     "data": {
      "text/plain": [
       "(0.62338461538461543, 0.64984615384615385)"
      ]
     },
     "execution_count": 25,
     "metadata": {},
     "output_type": "execute_result"
    }
   ],
   "source": [
    "random_forest_with_new_features(X, y, ['manager', 'senior'])"
   ]
  },
  {
   "cell_type": "code",
   "execution_count": 26,
   "metadata": {},
   "outputs": [
    {
     "name": "stdout",
     "output_type": "stream",
     "text": [
      "The new features ['manager', 'senior', 'data scientist', 'research', 'analyst'] added value.\n",
      "Change in oob_score: 0.0274\n"
     ]
    },
    {
     "data": {
      "text/plain": [
       "(0.62338461538461543, 0.65076923076923077)"
      ]
     },
     "execution_count": 26,
     "metadata": {},
     "output_type": "execute_result"
    }
   ],
   "source": [
    "random_forest_with_new_features(X, y, ['manager', 'senior', 'data scientist', 'research', 'analyst'])"
   ]
  },
  {
   "cell_type": "markdown",
   "metadata": {},
   "source": [
    "##### Use countervectorizer to generate features"
   ]
  },
  {
   "cell_type": "code",
   "execution_count": 27,
   "metadata": {
    "scrolled": true
   },
   "outputs": [
    {
     "data": {
      "text/plain": [
       "['2017',\n",
       " 'academic',\n",
       " 'accounting',\n",
       " 'administrator',\n",
       " 'analysis',\n",
       " 'analyst',\n",
       " 'analytics',\n",
       " 'application',\n",
       " 'applications',\n",
       " 'architect',\n",
       " 'assessment',\n",
       " 'assistant',\n",
       " 'associate',\n",
       " 'assurance',\n",
       " 'automation',\n",
       " 'az',\n",
       " 'bi',\n",
       " 'big',\n",
       " 'budget',\n",
       " 'bureau',\n",
       " 'business',\n",
       " 'care',\n",
       " 'center',\n",
       " 'chief',\n",
       " 'civil',\n",
       " 'clearance',\n",
       " 'clinical',\n",
       " 'compliance',\n",
       " 'computer',\n",
       " 'consultant',\n",
       " 'control',\n",
       " 'controls',\n",
       " 'coordinator',\n",
       " 'credit',\n",
       " 'customer',\n",
       " 'data',\n",
       " 'database',\n",
       " 'design',\n",
       " 'developer',\n",
       " 'development',\n",
       " 'devops',\n",
       " 'director',\n",
       " 'education',\n",
       " 'electrical',\n",
       " 'end',\n",
       " 'engineer',\n",
       " 'engineering',\n",
       " 'enterprise',\n",
       " 'entry',\n",
       " 'environmental',\n",
       " 'executive',\n",
       " 'fellow',\n",
       " 'field',\n",
       " 'financial',\n",
       " 'full',\n",
       " 'general',\n",
       " 'gis',\n",
       " 'gs',\n",
       " 'health',\n",
       " 'healthcare',\n",
       " 'human',\n",
       " 'ii',\n",
       " 'iii',\n",
       " 'information',\n",
       " 'infrastructure',\n",
       " 'institute',\n",
       " 'institutional',\n",
       " 'integration',\n",
       " 'intelligence',\n",
       " 'interdisciplinary',\n",
       " 'iv',\n",
       " 'java',\n",
       " 'jr',\n",
       " 'junior',\n",
       " 'laboratory',\n",
       " 'lead',\n",
       " 'learning',\n",
       " 'level',\n",
       " 'machine',\n",
       " 'management',\n",
       " 'manager',\n",
       " 'manufacturing',\n",
       " 'marketing',\n",
       " 'mechanical',\n",
       " 'medical',\n",
       " 'mid',\n",
       " 'modeler',\n",
       " 'modeling',\n",
       " 'net',\n",
       " 'network',\n",
       " 'nurse',\n",
       " 'office',\n",
       " 'officer',\n",
       " 'operations',\n",
       " 'oracle',\n",
       " 'phoenix',\n",
       " 'planner',\n",
       " 'planning',\n",
       " 'policy',\n",
       " 'positions',\n",
       " 'postdoctoral',\n",
       " 'predictive',\n",
       " 'principal',\n",
       " 'process',\n",
       " 'product',\n",
       " 'program',\n",
       " 'programmer',\n",
       " 'project',\n",
       " 'public',\n",
       " 'python',\n",
       " 'qa',\n",
       " 'quality',\n",
       " 'quantitative',\n",
       " 'reporting',\n",
       " 'research',\n",
       " 'resources',\n",
       " 'risk',\n",
       " 'sales',\n",
       " 'school',\n",
       " 'science',\n",
       " 'sciences',\n",
       " 'scientist',\n",
       " 'security',\n",
       " 'senior',\n",
       " 'service',\n",
       " 'services',\n",
       " 'social',\n",
       " 'software',\n",
       " 'specialist',\n",
       " 'sql',\n",
       " 'sr',\n",
       " 'stack',\n",
       " 'staff',\n",
       " 'statistical',\n",
       " 'statistician',\n",
       " 'student',\n",
       " 'supervisor',\n",
       " 'support',\n",
       " 'system',\n",
       " 'systems',\n",
       " 'teacher',\n",
       " 'technical',\n",
       " 'technician',\n",
       " 'technologist',\n",
       " 'technology',\n",
       " 'test',\n",
       " 'time',\n",
       " 'training',\n",
       " 'water',\n",
       " 'web']"
      ]
     },
     "execution_count": 27,
     "metadata": {},
     "output_type": "execute_result"
    }
   ],
   "source": [
    "cvec = CountVectorizer(min_df=10, max_features=150, binary=True, \n",
    "                       stop_words=stopwords.words('english'))\n",
    "title_features = cvec.fit_transform(df.title)\n",
    "\n",
    "# which text features are extracted from title\n",
    "cvec.get_feature_names()"
   ]
  },
  {
   "cell_type": "code",
   "execution_count": 28,
   "metadata": {},
   "outputs": [
    {
     "name": "stdout",
     "output_type": "stream",
     "text": [
      "0.748307692308\n"
     ]
    }
   ],
   "source": [
    "# use text features in titles only because adding location info does not improve accuracy\n",
    "title_df = pd.DataFrame(title_features.toarray(), columns=cvec.get_feature_names())\n",
    "\n",
    "clf = RandomForestClassifier(n_estimators=1000, oob_score=True, n_jobs=-1, random_state=42)\n",
    "clf.fit(title_df, y)\n",
    "\n",
    "# score of the training dataset obtained using an out-of-bag estimate\n",
    "print(clf.oob_score_)"
   ]
  },
  {
   "cell_type": "code",
   "execution_count": 29,
   "metadata": {},
   "outputs": [
    {
     "data": {
      "image/png": "[encoded data removed]",
      "text/plain": [
       "<matplotlib.figure.Figure at 0x7f1f58726eb8>"
      ]
     },
     "metadata": {},
     "output_type": "display_data"
    }
   ],
   "source": [
    "importances = clf.feature_importances_\n",
    "\n",
    "# calculate the standard deviation of feature importances by looping over the trees in the random forest\n",
    "std = np.std([tree.feature_importances_ for tree in clf.estimators_], axis=0)\n",
    "\n",
    "importances_df = pd.DataFrame({'importance': importances, 'std': std}, \n",
    "                              index=title_df.columns).sort_values(\n",
    "    by='importance', ascending=False)\n",
    "   \n",
    "# Plot the feature importances of the forest\n",
    "importances_df.head(30).plot(kind='bar', y='importance', rot=90, \n",
    "                             figsize=(12,8), title='Feature importances', \n",
    "                             sort_columns=False, align=\"center\", yerr='std');"
   ]
  },
  {
   "cell_type": "markdown",
   "metadata": {
    "focus": false,
    "id": "9367beff-72ba-4768-a0ba-a50b335de61d"
   },
   "source": [
    "#### Use cross-validation in scikit-learn to evaluate the model above. \n",
    "- Evaluate the accuracy of the model, as well as any other metrics you feel are appropriate. "
   ]
  },
  {
   "cell_type": "code",
   "execution_count": 30,
   "metadata": {
    "focus": false,
    "id": "269b9e7c-60b5-4a06-8255-881d7395bc1b"
   },
   "outputs": [
    {
     "name": "stdout",
     "output_type": "stream",
     "text": [
      "Accuracy score for random forest is 0.7186 +/- 0.0594\n",
      "CPU times: user 53.9 s, sys: 844 ms, total: 54.7 s\n",
      "Wall time: 25.5 s\n"
     ]
    }
   ],
   "source": [
    "%%time\n",
    "scores = cross_val_score(clf, title_df, y, scoring='accuracy', cv=10)\n",
    "print('Accuracy score for random forest is {:.4f} +/- {:.4f}'.format(np.mean(scores), np.std(scores)))"
   ]
  },
  {
   "cell_type": "markdown",
   "metadata": {},
   "source": [
    "#### Repeat the model-building process with a non-tree-based method."
   ]
  },
  {
   "cell_type": "markdown",
   "metadata": {},
   "source": [
    "##### Logistic Regression"
   ]
  },
  {
   "cell_type": "code",
   "execution_count": 31,
   "metadata": {},
   "outputs": [
    {
     "name": "stdout",
     "output_type": "stream",
     "text": [
      "Accuracy score for logistic regression is 0.7274 +/- 0.0000\n"
     ]
    }
   ],
   "source": [
    "logreg = LogisticRegression()\n",
    "scores = cross_val_score(logreg, title_df, y, cv=10, scoring='accuracy')\n",
    "print('Accuracy score for logistic regression is {:.4f} +/- {:.4f}'.format(np.mean(scores), np.std(np.std(scores))))"
   ]
  },
  {
   "cell_type": "code",
   "execution_count": 32,
   "metadata": {
    "scrolled": false
   },
   "outputs": [
    {
     "data": {
      "text/plain": [
       "technician     -2.785243\n",
       "field          -1.661662\n",
       "teacher        -1.635070\n",
       "student        -1.590912\n",
       "training       -1.255084\n",
       "postdoctoral   -1.228058\n",
       "coordinator    -1.188512\n",
       "academic       -1.149895\n",
       "jr             -1.126933\n",
       "phoenix        -1.040012\n",
       "dtype: float64"
      ]
     },
     "execution_count": 32,
     "metadata": {},
     "output_type": "execute_result"
    }
   ],
   "source": [
    "# take a closer look at the coefficients\n",
    "logreg.fit(title_df, y)\n",
    "coef = pd.Series(logreg.coef_[0], index=title_df.columns).sort_values()\n",
    "\n",
    "# negative coefficients\n",
    "coef.head(10)"
   ]
  },
  {
   "cell_type": "code",
   "execution_count": 33,
   "metadata": {
    "scrolled": true
   },
   "outputs": [
    {
     "data": {
      "text/plain": [
       "developer         1.418654\n",
       "chief             1.446529\n",
       "infrastructure    1.454259\n",
       "machine           1.490738\n",
       "senior            1.519119\n",
       "director          1.529661\n",
       "intelligence      1.531070\n",
       "principal         1.618392\n",
       "architect         1.708831\n",
       "quantitative      2.169950\n",
       "dtype: float64"
      ]
     },
     "execution_count": 33,
     "metadata": {},
     "output_type": "execute_result"
    }
   ],
   "source": [
    "# positive coefficients\n",
    "coef.tail(10)"
   ]
  },
  {
   "cell_type": "code",
   "execution_count": 34,
   "metadata": {
    "scrolled": false
   },
   "outputs": [
    {
     "data": {
      "text/plain": [
       "data            1.131870\n",
       "engineer        1.044775\n",
       "senior          1.519119\n",
       "analyst        -0.540957\n",
       "scientist       1.108205\n",
       "developer       1.418654\n",
       "research       -0.519358\n",
       "specialist     -0.923351\n",
       "sr              1.251891\n",
       "technician     -2.785243\n",
       "software        0.575291\n",
       "director        1.529661\n",
       "associate      -0.996501\n",
       "ii             -0.623199\n",
       "assistant      -1.009295\n",
       "manager         0.729317\n",
       "systems         0.609532\n",
       "intelligence    1.531070\n",
       "services       -0.959313\n",
       "architect       1.708831\n",
       "dtype: float64"
      ]
     },
     "execution_count": 34,
     "metadata": {},
     "output_type": "execute_result"
    }
   ],
   "source": [
    "# match the coeffients with the important keywords identified by Random Forest\n",
    "coef[importances_df.head(20).index]"
   ]
  },
  {
   "cell_type": "code",
   "execution_count": 35,
   "metadata": {
    "collapsed": true
   },
   "outputs": [],
   "source": [
    "# combine the keyword importances and coefficients for visualization\n",
    "importances_df['impact_coef'] = coef[importances_df.index]\n",
    "\n",
    "def direction(coef):\n",
    "    if coef > 0:\n",
    "        return 'positive'\n",
    "    elif coef < 0:\n",
    "        return 'negative'\n",
    "    else:\n",
    "        return 'neutral'\n",
    "    \n",
    "    \n",
    "importances_df['impact_direction'] = importances_df.impact_coef.apply(direction)\n",
    "importances_df.index.name='keyword'\n",
    "importances_df.to_csv('importance.csv')"
   ]
  },
  {
   "cell_type": "markdown",
   "metadata": {},
   "source": [
    "See the code for word cloud visualization [here](word_cloud.ipynb)."
   ]
  },
  {
   "cell_type": "markdown",
   "metadata": {},
   "source": [
    "##### KNN"
   ]
  },
  {
   "cell_type": "code",
   "execution_count": 36,
   "metadata": {},
   "outputs": [
    {
     "name": "stdout",
     "output_type": "stream",
     "text": [
      "Accuracy score for KNN is 0.6650 +/- 0.0000\n"
     ]
    }
   ],
   "source": [
    "knn = KNeighborsClassifier(n_neighbors=5)\n",
    "scores = cross_val_score(knn, title_df, y, cv=10, scoring='accuracy')\n",
    "print('Accuracy score for KNN is {:.4f} +/- {:.4f}'.format(np.mean(scores), np.std(np.std(scores))))"
   ]
  },
  {
   "cell_type": "markdown",
   "metadata": {},
   "source": [
    "##### SVM"
   ]
  },
  {
   "cell_type": "code",
   "execution_count": 37,
   "metadata": {},
   "outputs": [
    {
     "name": "stdout",
     "output_type": "stream",
     "text": [
      "CPU times: user 3.18 s, sys: 60 ms, total: 3.24 s\n",
      "Wall time: 3min 1s\n"
     ]
    }
   ],
   "source": [
    "%%time\n",
    "clf = SVC()\n",
    "C_range = 10.**np.arange(-2, 3)\n",
    "kernel_range = ['rbf', 'sigmoid', 'linear', 'poly']\n",
    "param_grid = dict(C=C_range, kernel=kernel_range)\n",
    "grid = GridSearchCV(clf, param_grid, cv=10, scoring='accuracy', n_jobs=5)\n",
    "grid.fit(title_df, y)"
   ]
  },
  {
   "cell_type": "code",
   "execution_count": 38,
   "metadata": {},
   "outputs": [
    {
     "data": {
      "text/plain": [
       "{'C': 100.0, 'kernel': 'rbf'}"
      ]
     },
     "execution_count": 38,
     "metadata": {},
     "output_type": "execute_result"
    }
   ],
   "source": [
    "# best parameters\n",
    "grid.best_params_"
   ]
  },
  {
   "cell_type": "code",
   "execution_count": 39,
   "metadata": {},
   "outputs": [
    {
     "data": {
      "text/plain": [
       "0.73138461538461541"
      ]
     },
     "execution_count": 39,
     "metadata": {},
     "output_type": "execute_result"
    }
   ],
   "source": [
    "# best score\n",
    "grid.best_score_"
   ]
  },
  {
   "cell_type": "code",
   "execution_count": 40,
   "metadata": {},
   "outputs": [
    {
     "name": "stdout",
     "output_type": "stream",
     "text": [
      "Model: SVC(C=100.0, cache_size=200, class_weight=None, coef0=0.0,\n",
      "  decision_function_shape=None, degree=3, gamma='auto', kernel='rbf',\n",
      "  max_iter=-1, probability=False, random_state=None, shrinking=True,\n",
      "  tol=0.001, verbose=False)\n",
      "\n",
      "The mean of the cross validation scores is 0.7314; the standard deviation is 0.0626\n"
     ]
    },
    {
     "data": {
      "text/plain": [
       "(0.73142467620995233, 0.06264323612074936)"
      ]
     },
     "execution_count": 40,
     "metadata": {},
     "output_type": "execute_result"
    }
   ],
   "source": [
    "def do_cv(model, X, y, cv):\n",
    "    scores = cross_val_score(model, X, y, cv=cv, scoring='accuracy')\n",
    "    print('Model: {}\\n'.format(model))\n",
    "    mean = np.mean(scores)\n",
    "    std = np.std(scores)\n",
    "    print('The mean of the cross validation scores is {:.4f}; the standard deviation is {:.4f}'.format(mean, std))\n",
    "    return mean, std\n",
    "\n",
    "\n",
    "do_cv(grid.best_estimator_, title_df, y, 10)"
   ]
  },
  {
   "cell_type": "markdown",
   "metadata": {
    "focus": false,
    "id": "3be94357-e551-4094-b784-2df039216d33"
   },
   "source": [
    "### BONUS "
   ]
  },
  {
   "cell_type": "markdown",
   "metadata": {
    "focus": false,
    "id": "db045898-1d2d-4af2-8e79-437c4c7546b4"
   },
   "source": [
    "#### Bonus: Use Count Vectorizer from scikit-learn to create features from the job descriptions. \n",
    "- Examine using count or binary features in the model\n",
    "- Re-evaluate your models using these. Does this improve the model performance? \n",
    "- What text features are the most valuable? "
   ]
  },
  {
   "cell_type": "code",
   "execution_count": 41,
   "metadata": {
    "focus": false,
    "id": "4239e458-28bd-4675-8db3-c1d9c02b9854"
   },
   "outputs": [
    {
     "name": "stdout",
     "output_type": "stream",
     "text": [
      "Accuracy score for random forest is 0.7020 +/- 0.0710\n"
     ]
    }
   ],
   "source": [
    "# extract text features from the titles\n",
    "cvec_title = CountVectorizer(min_df=10,\n",
    "                             max_features=150, binary=True,\n",
    "                             stop_words=stopwords.words('english'))\n",
    "title_features = cvec_title.fit_transform(df.title)\n",
    "title_df = pd.DataFrame(title_features.toarray(), columns=cvec_title.get_feature_names())\n",
    "\n",
    "# extract text features from the job description snippets\n",
    "stop_words_desc = set(stopwords.words('english')) | set(cvec_title.get_feature_names())\n",
    "cvec_desc = CountVectorizer(min_df=10,\n",
    "                            max_features=150, binary=True,\n",
    "                            stop_words=stop_words_desc)\n",
    "desc_features = cvec_desc.fit_transform(df.description)\n",
    "desc_df = pd.DataFrame(desc_features.toarray(), columns=cvec_desc.get_feature_names())\n",
    "\n",
    "# combine the features\n",
    "combined_df = pd.concat((X, title_df, desc_df), axis=1)\n",
    "\n",
    "clf = RandomForestClassifier(n_estimators=1000, n_jobs=-1, random_state=42)\n",
    "clf.fit(combined_df, y)\n",
    "\n",
    "scores = cross_val_score(clf, combined_df, y, scoring='accuracy', cv=10)\n",
    "print('Accuracy score for random forest is {:.4f} +/- {:.4f}'.format(np.mean(scores), np.std(scores)))"
   ]
  },
  {
   "cell_type": "code",
   "execution_count": 42,
   "metadata": {},
   "outputs": [
    {
     "data": {
      "image/png": "[encoded data removed]",
      "text/plain": [
       "<matplotlib.figure.Figure at 0x7f1f57f55f28>"
      ]
     },
     "metadata": {},
     "output_type": "display_data"
    }
   ],
   "source": [
    "importances = clf.feature_importances_\n",
    "\n",
    "# calculate the standard deviation of feature importances by looping over the trees in the random forest\n",
    "std = np.std([tree.feature_importances_ for tree in clf.estimators_], axis=0)\n",
    "\n",
    "importances_df = pd.DataFrame({'importance': importances, 'std': std}, \n",
    "                              index=combined_df.columns).sort_values(\n",
    "    by='importance', ascending=False)\n",
    "\n",
    "# Plot the feature importances of the forest\n",
    "importances_df.head(40).plot(kind='bar', y='importance', rot=90, \n",
    "                             figsize=(10,10), title='Feature importances', \n",
    "                             sort_columns=False, align=\"center\", yerr='std');"
   ]
  },
  {
   "cell_type": "markdown",
   "metadata": {},
   "source": [
    "### Executive summary can be found on [Google Docs](https://docs.google.com/document/d/13Ujc-SzP7ir9S4elRIywPP050nFRyVhusjUOmTWo-EA/edit?usp=sharing)."
   ]
  }
 ],
 "metadata": {
  "anaconda-cloud": {},
  "kernelspec": {
   "display_name": "Python 2",
   "language": "python",
   "name": "python2"
  },
  "language_info": {
   "codemirror_mode": {
    "name": "ipython",
    "version": 2
   },
   "file_extension": ".py",
   "mimetype": "text/x-python",
   "name": "python",
   "nbconvert_exporter": "python",
   "pygments_lexer": "ipython2",
   "version": "2.7.13"
  }
 },
 "nbformat": 4,
 "nbformat_minor": 1
}
